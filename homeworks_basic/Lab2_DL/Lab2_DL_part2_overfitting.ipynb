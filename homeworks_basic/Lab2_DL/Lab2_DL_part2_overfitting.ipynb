{
 "cells": [
  {
   "cell_type": "markdown",
   "metadata": {
    "id": "NFmOh482SyEF"
   },
   "source": [
    "## Lab 2\n",
    "### Part 2: Dealing with overfitting"
   ]
  },
  {
   "cell_type": "markdown",
   "metadata": {
    "id": "AjzAuO3oSvsI"
   },
   "source": [
    "Today we work with [Fashion-MNIST dataset](https://github.com/zalandoresearch/fashion-mnist) (*hint: it is available in `torchvision`*).\n",
    "\n",
    "Your goal for today:\n",
    "1. Train a FC (fully-connected) network that achieves >= 0.885 test accuracy.\n",
    "2. Cause considerable overfitting by modifying the network (e.g. increasing the number of network parameters and/or layers) and demonstrate in in the appropriate way (e.g. plot loss and accurasy on train and validation set w.r.t. network complexity).\n",
    "3. Try to deal with overfitting (at least partially) by using regularization techniques (Dropout/Batchnorm/...) and demonstrate the results.\n",
    "\n",
    "__Please, write a small report describing your ideas, tries and achieved results in the end of this file.__\n",
    "\n",
    "*Note*: Tasks 2 and 3 are interrelated, in task 3 your goal is to make the network from task 2 less prone to overfitting. Task 1 is independent from 2 and 3.\n",
    "\n",
    "*Note 2*: We recomment to use Google Colab or other machine with GPU acceleration."
   ]
  },
  {
   "cell_type": "code",
   "execution_count": 28,
   "metadata": {
    "colab": {
     "base_uri": "https://localhost:8080/",
     "height": 35
    },
    "executionInfo": {
     "elapsed": 1368,
     "status": "ok",
     "timestamp": 1607779575389,
     "user": {
      "displayName": "Артур Мулихов",
      "photoUrl": "",
      "userId": "12709459452152768078"
     },
     "user_tz": -180
    },
    "id": "_KBld6VOSwhW",
    "outputId": "b91b6c79-97e2-4814-8636-0c4fd7d1bcb2"
   },
   "outputs": [
    {
     "data": {
      "application/vnd.google.colaboratory.intrinsic+json": {
       "type": "string"
      },
      "text/plain": [
       "'cuda:0'"
      ]
     },
     "execution_count": 28,
     "metadata": {
      "tags": []
     },
     "output_type": "execute_result"
    }
   ],
   "source": [
    "import torch\n",
    "import torch.nn as nn\n",
    "import torchvision\n",
    "import torchvision.transforms as transforms\n",
    "import torchsummary\n",
    "from IPython.display import clear_output\n",
    "from matplotlib import pyplot as plt\n",
    "from matplotlib.pyplot import figure\n",
    "import numpy as np\n",
    "import os\n",
    "import time\n",
    "\n",
    "\n",
    "device = 'cuda:0' if torch.cuda.is_available() else 'cpu'\n",
    "\n",
    "device"
   ]
  },
  {
   "cell_type": "code",
   "execution_count": 29,
   "metadata": {
    "colab": {
     "base_uri": "https://localhost:8080/"
    },
    "executionInfo": {
     "elapsed": 2178,
     "status": "ok",
     "timestamp": 1607779578336,
     "user": {
      "displayName": "Артур Мулихов",
      "photoUrl": "",
      "userId": "12709459452152768078"
     },
     "user_tz": -180
    },
    "id": "EdLOG0XqS_g5",
    "outputId": "3e8b3b43-eb89-4e7f-d4bb-24d7bf4cb842"
   },
   "outputs": [
    {
     "name": "stdout",
     "output_type": "stream",
     "text": [
      "Directory fmnist already exists!\n"
     ]
    }
   ],
   "source": [
    "# Technical function\n",
    "def mkdir(path):\n",
    "    if not os.path.exists(root_path):\n",
    "        os.mkdir(root_path)\n",
    "        print('Directory', path, 'is created!')\n",
    "    else:\n",
    "        print('Directory', path, 'already exists!')\n",
    "        \n",
    "root_path = 'fmnist'\n",
    "mkdir(root_path)"
   ]
  },
  {
   "cell_type": "code",
   "execution_count": 30,
   "metadata": {
    "executionInfo": {
     "elapsed": 2251,
     "status": "ok",
     "timestamp": 1607779578786,
     "user": {
      "displayName": "Артур Мулихов",
      "photoUrl": "",
      "userId": "12709459452152768078"
     },
     "user_tz": -180
    },
    "id": "qt6LE7XaTDT9"
   },
   "outputs": [],
   "source": [
    "download = True\n",
    "train_transform = transforms.ToTensor()\n",
    "test_transform = transforms.ToTensor()\n",
    "transforms.Compose((transforms.ToTensor()))\n",
    "\n",
    "\n",
    "fmnist_dataset_train = torchvision.datasets.FashionMNIST(root_path, \n",
    "                                                        train=True, \n",
    "                                                        transform=train_transform,\n",
    "                                                        target_transform=None,\n",
    "                                                        download=download)\n",
    "fmnist_dataset_test = torchvision.datasets.FashionMNIST(root_path, \n",
    "                                                       train=False, \n",
    "                                                       transform=test_transform,\n",
    "                                                       target_transform=None,\n",
    "                                                       download=download)"
   ]
  },
  {
   "cell_type": "code",
   "execution_count": 31,
   "metadata": {
    "executionInfo": {
     "elapsed": 1449,
     "status": "ok",
     "timestamp": 1607779583322,
     "user": {
      "displayName": "Артур Мулихов",
      "photoUrl": "",
      "userId": "12709459452152768078"
     },
     "user_tz": -180
    },
    "id": "71YP0SPwTIxD"
   },
   "outputs": [],
   "source": [
    "train_loader = torch.utils.data.DataLoader(fmnist_dataset_train, \n",
    "                                           batch_size=128,\n",
    "                                           shuffle=True,\n",
    "                                           num_workers=2)\n",
    "test_loader = torch.utils.data.DataLoader(fmnist_dataset_test,\n",
    "                                          batch_size=256,\n",
    "                                          shuffle=False,\n",
    "                                          num_workers=2)"
   ]
  },
  {
   "cell_type": "code",
   "execution_count": 155,
   "metadata": {
    "colab": {
     "base_uri": "https://localhost:8080/"
    },
    "executionInfo": {
     "elapsed": 2280,
     "status": "ok",
     "timestamp": 1607789536219,
     "user": {
      "displayName": "Артур Мулихов",
      "photoUrl": "",
      "userId": "12709459452152768078"
     },
     "user_tz": -180
    },
    "id": "v_YFmF7NTWrQ",
    "outputId": "3dc34981-ba28-48b0-b5d0-91f1182ad0a4"
   },
   "outputs": [
    {
     "data": {
      "text/plain": [
       "(60000, 10000)"
      ]
     },
     "execution_count": 155,
     "metadata": {
      "tags": []
     },
     "output_type": "execute_result"
    }
   ],
   "source": [
    "len(fmnist_dataset_train), len(fmnist_dataset_test)"
   ]
  },
  {
   "cell_type": "code",
   "execution_count": 33,
   "metadata": {
    "colab": {
     "base_uri": "https://localhost:8080/"
    },
    "executionInfo": {
     "elapsed": 1365,
     "status": "ok",
     "timestamp": 1607779587634,
     "user": {
      "displayName": "Артур Мулихов",
      "photoUrl": "",
      "userId": "12709459452152768078"
     },
     "user_tz": -180
    },
    "id": "aHca15bOTY4B",
    "outputId": "f96e75b0-036c-41a6-db88-7ac2dbe5c76d"
   },
   "outputs": [
    {
     "name": "stdout",
     "output_type": "stream",
     "text": [
      "torch.Size([128, 1, 28, 28])\n",
      "torch.Size([128])\n",
      "128\n"
     ]
    }
   ],
   "source": [
    "for img, label in train_loader:\n",
    "    print(img.shape)\n",
    "#     print(img)\n",
    "    print(label.shape)\n",
    "    print(label.size(0))\n",
    "    break"
   ]
  },
  {
   "cell_type": "markdown",
   "metadata": {
    "id": "b6OOOffHTfX5"
   },
   "source": [
    "### Task 1\n",
    "Train a network that achieves $\\geq 0.885$ test accuracy. It's fine to use only Linear (`nn.Linear`) layers and activations/dropout/batchnorm. Convolutional layers might be a great use, but we will meet them a bit later."
   ]
  },
  {
   "cell_type": "code",
   "execution_count": 153,
   "metadata": {
    "executionInfo": {
     "elapsed": 2323,
     "status": "ok",
     "timestamp": 1607789475331,
     "user": {
      "displayName": "Артур Мулихов",
      "photoUrl": "",
      "userId": "12709459452152768078"
     },
     "user_tz": -180
    },
    "id": "ftpkTjxlTcFx"
   },
   "outputs": [],
   "source": [
    "class TinyNeuralNetwork(nn.Module):\n",
    "    def __init__(self, input_shape=28*28, num_classes=10, input_channels=1):\n",
    "        super(self.__class__, self).__init__()\n",
    "        self.model = nn.Sequential(\n",
    "            nn.Flatten(), # This layer converts image into a vector to use Linear layers afterwards\n",
    "            # Your network structure comes here\n",
    "            nn.Linear(input_shape, 2*num_classes),\n",
    "            nn.LeakyReLU(),\n",
    "            nn.BatchNorm1d(2*num_classes),\n",
    "            nn.Linear(2*num_classes, num_classes),\n",
    "            nn.Tanh(),\n",
    "            nn.BatchNorm1d(num_classes),\n",
    "        )\n",
    "        \n",
    "    def forward(self, inp):       \n",
    "        out = self.model(inp)\n",
    "        return out\n",
    "\n",
    "    def __call__(self, inp):\n",
    "        return self.forward(inp)"
   ]
  },
  {
   "cell_type": "code",
   "execution_count": 154,
   "metadata": {
    "colab": {
     "base_uri": "https://localhost:8080/"
    },
    "executionInfo": {
     "elapsed": 1678,
     "status": "ok",
     "timestamp": 1607789475332,
     "user": {
      "displayName": "Артур Мулихов",
      "photoUrl": "",
      "userId": "12709459452152768078"
     },
     "user_tz": -180
    },
    "id": "N7kgA_e7Bl6N",
    "outputId": "39613410-1cdf-4d29-ed94-be9ff44b7c46"
   },
   "outputs": [
    {
     "name": "stdout",
     "output_type": "stream",
     "text": [
      "----------------------------------------------------------------\n",
      "        Layer (type)               Output Shape         Param #\n",
      "================================================================\n",
      "           Flatten-1                  [-1, 784]               0\n",
      "            Linear-2                   [-1, 20]          15,700\n",
      "         LeakyReLU-3                   [-1, 20]               0\n",
      "       BatchNorm1d-4                   [-1, 20]              40\n",
      "            Linear-5                   [-1, 10]             210\n",
      "              Tanh-6                   [-1, 10]               0\n",
      "       BatchNorm1d-7                   [-1, 10]              20\n",
      "================================================================\n",
      "Total params: 15,970\n",
      "Trainable params: 15,970\n",
      "Non-trainable params: 0\n",
      "----------------------------------------------------------------\n",
      "Input size (MB): 0.00\n",
      "Forward/backward pass size (MB): 0.01\n",
      "Params size (MB): 0.06\n",
      "Estimated Total Size (MB): 0.07\n",
      "----------------------------------------------------------------\n"
     ]
    }
   ],
   "source": [
    "torchsummary.summary(TinyNeuralNetwork().to(device), (28*28,))"
   ]
  },
  {
   "cell_type": "markdown",
   "metadata": {
    "id": "544PGKEnjPr5"
   },
   "source": [
    "Your experiments come here:"
   ]
  },
  {
   "cell_type": "code",
   "execution_count": 115,
   "metadata": {
    "executionInfo": {
     "elapsed": 2261,
     "status": "ok",
     "timestamp": 1607781986063,
     "user": {
      "displayName": "Артур Мулихов",
      "photoUrl": "",
      "userId": "12709459452152768078"
     },
     "user_tz": -180
    },
    "id": "NVXQUS9sG9Ad"
   },
   "outputs": [],
   "source": [
    "def train_model(model, train_loader, val_loader, loss_fn, opt, n_epochs: int):\n",
    "    train_loss = []\n",
    "    val_loss = []\n",
    "    val_accuracy = []\n",
    "    \n",
    "    for epoch in range(n_epochs):\n",
    "        ep_train_loss = []\n",
    "        ep_val_loss = []\n",
    "        ep_val_accuracy = []\n",
    "        start_time = time.time()\n",
    "\n",
    "        model.train(True) # enable dropout / batch_norm training behavior\n",
    "        for X_batch, y_batch in train_loader:\n",
    "            opt.zero_grad()\n",
    "            # move data to target device\n",
    "            X_batch, y_batch = X_batch.to(device), y_batch.to(device)\n",
    "            # train on batch: compute loss, calc grads, perform optimizer step and zero the grads\n",
    "            out = model(X_batch)\n",
    "            loss = loss_fn(out, y_batch)\n",
    "            loss.backward()\n",
    "            opt.step()\n",
    "            ep_train_loss.append(loss.item())\n",
    "\n",
    "        model.train(False) # disable dropout / use averages for batch_norm\n",
    "        with torch.no_grad():\n",
    "            for X_batch, y_batch in val_loader:\n",
    "                # move data to target device\n",
    "                X_batch, y_batch = X_batch.to(device), y_batch.to(device)\n",
    "                out = model(X_batch)\n",
    "                loss = loss_fn(out, y_batch)\n",
    "                \n",
    "                # compute predictions\n",
    "                ep_val_loss.append(loss.item())\n",
    "                y_pred = out.max(dim=1)[1]\n",
    "                ep_val_accuracy.append(np.sum((y_pred.cpu() == y_batch.cpu()).numpy())/len(y_batch.cpu().numpy()))\n",
    "\n",
    "        # print the results for this epoch:\n",
    "        print(f'Epoch {epoch + 1} of {n_epochs} took {time.time() - start_time:.3f}s')\n",
    "\n",
    "        train_loss.append(np.mean(ep_train_loss))\n",
    "        val_loss.append(np.mean(ep_val_loss))\n",
    "        val_accuracy.append(np.mean(ep_val_accuracy))\n",
    "        \n",
    "        print(f\"\\t  training loss: {train_loss[-1]:.6f}\")\n",
    "        print(f\"\\tvalidation loss: {val_loss[-1]:.6f}\")\n",
    "        print(f\"\\tvalidation accuracy: {val_accuracy[-1]:.3f}\")\n",
    "\n",
    "    return train_loss, val_loss, val_accuracy\n",
    "\n",
    "def plot_train_process(train_loss, val_loss, val_accuracy):\n",
    "    fig, axes = plt.subplots(1, 2, figsize=(15, 5))\n",
    "\n",
    "    axes[0].set_title('Loss')\n",
    "    axes[0].plot(train_loss, label='train')\n",
    "    axes[0].plot(val_loss, label='validation')\n",
    "    axes[0].legend()\n",
    "\n",
    "    axes[1].set_title('Validation accuracy')\n",
    "    axes[1].plot(val_accuracy)"
   ]
  },
  {
   "cell_type": "code",
   "execution_count": 116,
   "metadata": {
    "colab": {
     "base_uri": "https://localhost:8080/"
    },
    "executionInfo": {
     "elapsed": 63534,
     "status": "ok",
     "timestamp": 1607782048198,
     "user": {
      "displayName": "Артур Мулихов",
      "photoUrl": "",
      "userId": "12709459452152768078"
     },
     "user_tz": -180
    },
    "id": "sbaEECy2HcEL",
    "outputId": "ebfe96f4-3222-40de-b0e5-e8f131756496"
   },
   "outputs": [
    {
     "name": "stdout",
     "output_type": "stream",
     "text": [
      "Epoch 1 of 10 took 6.142s\n",
      "\t  training loss: 0.738484\n",
      "\tvalidation loss: 0.591844\n",
      "\tvalidation accuracy: 0.835\n",
      "Epoch 2 of 10 took 6.058s\n",
      "\t  training loss: 0.510190\n",
      "\tvalidation loss: 0.488715\n",
      "\tvalidation accuracy: 0.846\n",
      "Epoch 3 of 10 took 6.146s\n",
      "\t  training loss: 0.446696\n",
      "\tvalidation loss: 0.474769\n",
      "\tvalidation accuracy: 0.841\n",
      "Epoch 4 of 10 took 6.163s\n",
      "\t  training loss: 0.419466\n",
      "\tvalidation loss: 0.454599\n",
      "\tvalidation accuracy: 0.847\n",
      "Epoch 5 of 10 took 6.323s\n",
      "\t  training loss: 0.397236\n",
      "\tvalidation loss: 0.459950\n",
      "\tvalidation accuracy: 0.842\n",
      "Epoch 6 of 10 took 6.117s\n",
      "\t  training loss: 0.382861\n",
      "\tvalidation loss: 0.419077\n",
      "\tvalidation accuracy: 0.853\n",
      "Epoch 7 of 10 took 6.118s\n",
      "\t  training loss: 0.370051\n",
      "\tvalidation loss: 0.415660\n",
      "\tvalidation accuracy: 0.855\n",
      "Epoch 8 of 10 took 6.219s\n",
      "\t  training loss: 0.361669\n",
      "\tvalidation loss: 0.407022\n",
      "\tvalidation accuracy: 0.859\n",
      "Epoch 9 of 10 took 6.229s\n",
      "\t  training loss: 0.353874\n",
      "\tvalidation loss: 0.419577\n",
      "\tvalidation accuracy: 0.854\n",
      "Epoch 10 of 10 took 6.191s\n",
      "\t  training loss: 0.347609\n",
      "\tvalidation loss: 0.412037\n",
      "\tvalidation accuracy: 0.855\n"
     ]
    }
   ],
   "source": [
    "model = TinyNeuralNetwork().to(device)\n",
    "opt = torch.optim.Adam(model.parameters(), lr=1e-3)\n",
    "loss_func = nn.CrossEntropyLoss()\n",
    "\n",
    "n_epochs = 10\n",
    "train_loss, val_loss, val_accuracy = train_model(model, train_loader,\n",
    "                                                 test_loader, loss_func,\n",
    "                                                 opt, n_epochs)"
   ]
  },
  {
   "cell_type": "code",
   "execution_count": 117,
   "metadata": {
    "colab": {
     "base_uri": "https://localhost:8080/",
     "height": 336
    },
    "executionInfo": {
     "elapsed": 62542,
     "status": "ok",
     "timestamp": 1607782048201,
     "user": {
      "displayName": "Артур Мулихов",
      "photoUrl": "",
      "userId": "12709459452152768078"
     },
     "user_tz": -180
    },
    "id": "SpB_Pnx0PYXX",
    "outputId": "bc7b9e8c-88c8-41cf-dc31-8b875495576c"
   },
   "outputs": [
    {
     "data": {
      "image/png": "[encoded data removed]",
      "text/plain": [
       "<Figure size 1080x360 with 2 Axes>"
      ]
     },
     "metadata": {
      "needs_background": "light",
      "tags": []
     },
     "output_type": "display_data"
    }
   ],
   "source": [
    "plot_train_process(train_loss, val_loss, val_accuracy)"
   ]
  },
  {
   "cell_type": "markdown",
   "metadata": {
    "id": "L7ISqkjmCPB1"
   },
   "source": [
    "### Task 2: Overfit it.\n",
    "Build a network that will overfit to this dataset. Demonstrate the overfitting in the appropriate way (e.g. plot loss and accurasy on train and test set w.r.t. network complexity).\n",
    "\n",
    "*Note:* you also might decrease the size of `train` dataset to enforce the overfitting and speed up the computations."
   ]
  },
  {
   "cell_type": "code",
   "execution_count": 124,
   "metadata": {
    "executionInfo": {
     "elapsed": 1397,
     "status": "ok",
     "timestamp": 1607782821777,
     "user": {
      "displayName": "Артур Мулихов",
      "photoUrl": "",
      "userId": "12709459452152768078"
     },
     "user_tz": -180
    },
    "id": "H12uAWiGBwJx"
   },
   "outputs": [],
   "source": [
    "class OverfittingNeuralNetwork(nn.Module):\n",
    "    def __init__(self, input_shape=28*28, num_classes=10, input_channels=1):\n",
    "        super(self.__class__, self).__init__()\n",
    "        self.model = nn.Sequential(\n",
    "            nn.Flatten(), # This layer converts image into a vector to use Linear layers afterwards\n",
    "            # Your network structure comes here\n",
    "            nn.Linear(input_shape, 14*14),\n",
    "            nn.LeakyReLU(),\n",
    "            nn.Linear(14*14, 7*7),\n",
    "            nn.Softplus(),\n",
    "            nn.Linear(7*7, num_classes),\n",
    "            nn.Tanh()\n",
    "        )\n",
    "        \n",
    "    def forward(self, inp):       \n",
    "        out = self.model(inp)\n",
    "        return out\n",
    "\n",
    "    def __call__(self, inp):\n",
    "      return self.forward(inp)"
   ]
  },
  {
   "cell_type": "code",
   "execution_count": 125,
   "metadata": {
    "colab": {
     "base_uri": "https://localhost:8080/"
    },
    "executionInfo": {
     "elapsed": 1864,
     "status": "ok",
     "timestamp": 1607782822644,
     "user": {
      "displayName": "Артур Мулихов",
      "photoUrl": "",
      "userId": "12709459452152768078"
     },
     "user_tz": -180
    },
    "id": "JgXAKCpvCwqH",
    "outputId": "6479149d-6310-4724-d4f2-01553fd8070d"
   },
   "outputs": [
    {
     "name": "stdout",
     "output_type": "stream",
     "text": [
      "----------------------------------------------------------------\n",
      "        Layer (type)               Output Shape         Param #\n",
      "================================================================\n",
      "           Flatten-1                  [-1, 784]               0\n",
      "            Linear-2                  [-1, 196]         153,860\n",
      "         LeakyReLU-3                  [-1, 196]               0\n",
      "            Linear-4                   [-1, 49]           9,653\n",
      "          Softplus-5                   [-1, 49]               0\n",
      "            Linear-6                   [-1, 10]             500\n",
      "              Tanh-7                   [-1, 10]               0\n",
      "================================================================\n",
      "Total params: 164,013\n",
      "Trainable params: 164,013\n",
      "Non-trainable params: 0\n",
      "----------------------------------------------------------------\n",
      "Input size (MB): 0.00\n",
      "Forward/backward pass size (MB): 0.01\n",
      "Params size (MB): 0.63\n",
      "Estimated Total Size (MB): 0.64\n",
      "----------------------------------------------------------------\n"
     ]
    }
   ],
   "source": [
    "torchsummary.summary(OverfittingNeuralNetwork().to(device), (28*28,))"
   ]
  },
  {
   "cell_type": "code",
   "execution_count": 131,
   "metadata": {
    "colab": {
     "base_uri": "https://localhost:8080/"
    },
    "executionInfo": {
     "elapsed": 180336,
     "status": "ok",
     "timestamp": 1607783912332,
     "user": {
      "displayName": "Артур Мулихов",
      "photoUrl": "",
      "userId": "12709459452152768078"
     },
     "user_tz": -180
    },
    "id": "GayuEcmqBl6P",
    "outputId": "6e552588-968c-4440-91e6-14658a527ada"
   },
   "outputs": [
    {
     "name": "stdout",
     "output_type": "stream",
     "text": [
      "Epoch 1 of 30 took 6.050s\n",
      "\t  training loss: 1.189639\n",
      "\tvalidation loss: 1.095311\n",
      "\tvalidation accuracy: 0.784\n",
      "Epoch 2 of 30 took 6.077s\n",
      "\t  training loss: 1.046796\n",
      "\tvalidation loss: 1.043930\n",
      "\tvalidation accuracy: 0.831\n",
      "Epoch 3 of 30 took 5.892s\n",
      "\t  training loss: 1.007942\n",
      "\tvalidation loss: 1.014209\n",
      "\tvalidation accuracy: 0.849\n",
      "Epoch 4 of 30 took 5.828s\n",
      "\t  training loss: 0.994082\n",
      "\tvalidation loss: 1.006085\n",
      "\tvalidation accuracy: 0.852\n",
      "Epoch 5 of 30 took 5.875s\n",
      "\t  training loss: 0.982943\n",
      "\tvalidation loss: 0.999299\n",
      "\tvalidation accuracy: 0.853\n",
      "Epoch 6 of 30 took 5.888s\n",
      "\t  training loss: 0.973645\n",
      "\tvalidation loss: 1.010612\n",
      "\tvalidation accuracy: 0.841\n",
      "Epoch 7 of 30 took 5.938s\n",
      "\t  training loss: 0.967330\n",
      "\tvalidation loss: 0.992831\n",
      "\tvalidation accuracy: 0.865\n",
      "Epoch 8 of 30 took 5.934s\n",
      "\t  training loss: 0.960362\n",
      "\tvalidation loss: 0.987025\n",
      "\tvalidation accuracy: 0.870\n",
      "Epoch 9 of 30 took 5.868s\n",
      "\t  training loss: 0.956821\n",
      "\tvalidation loss: 0.986359\n",
      "\tvalidation accuracy: 0.867\n",
      "Epoch 10 of 30 took 5.978s\n",
      "\t  training loss: 0.953036\n",
      "\tvalidation loss: 0.988279\n",
      "\tvalidation accuracy: 0.867\n",
      "Epoch 11 of 30 took 5.875s\n",
      "\t  training loss: 0.947802\n",
      "\tvalidation loss: 0.972954\n",
      "\tvalidation accuracy: 0.878\n",
      "Epoch 12 of 30 took 5.916s\n",
      "\t  training loss: 0.944624\n",
      "\tvalidation loss: 0.974140\n",
      "\tvalidation accuracy: 0.871\n",
      "Epoch 13 of 30 took 6.096s\n",
      "\t  training loss: 0.942548\n",
      "\tvalidation loss: 0.974099\n",
      "\tvalidation accuracy: 0.875\n",
      "Epoch 14 of 30 took 5.865s\n",
      "\t  training loss: 0.937642\n",
      "\tvalidation loss: 0.970893\n",
      "\tvalidation accuracy: 0.877\n",
      "Epoch 15 of 30 took 5.941s\n",
      "\t  training loss: 0.933372\n",
      "\tvalidation loss: 0.970617\n",
      "\tvalidation accuracy: 0.880\n",
      "Epoch 16 of 30 took 5.980s\n",
      "\t  training loss: 0.931551\n",
      "\tvalidation loss: 0.979997\n",
      "\tvalidation accuracy: 0.870\n",
      "Epoch 17 of 30 took 5.936s\n",
      "\t  training loss: 0.929524\n",
      "\tvalidation loss: 0.971210\n",
      "\tvalidation accuracy: 0.882\n",
      "Epoch 18 of 30 took 5.913s\n",
      "\t  training loss: 0.927736\n",
      "\tvalidation loss: 0.966424\n",
      "\tvalidation accuracy: 0.881\n",
      "Epoch 19 of 30 took 6.169s\n",
      "\t  training loss: 0.924065\n",
      "\tvalidation loss: 0.968339\n",
      "\tvalidation accuracy: 0.882\n",
      "Epoch 20 of 30 took 5.885s\n",
      "\t  training loss: 0.921607\n",
      "\tvalidation loss: 0.965644\n",
      "\tvalidation accuracy: 0.882\n",
      "Epoch 21 of 30 took 5.874s\n",
      "\t  training loss: 0.921029\n",
      "\tvalidation loss: 0.973342\n",
      "\tvalidation accuracy: 0.878\n",
      "Epoch 22 of 30 took 5.919s\n",
      "\t  training loss: 0.917167\n",
      "\tvalidation loss: 0.967082\n",
      "\tvalidation accuracy: 0.882\n",
      "Epoch 23 of 30 took 5.918s\n",
      "\t  training loss: 0.916946\n",
      "\tvalidation loss: 0.966463\n",
      "\tvalidation accuracy: 0.883\n",
      "Epoch 24 of 30 took 5.885s\n",
      "\t  training loss: 0.914250\n",
      "\tvalidation loss: 0.964982\n",
      "\tvalidation accuracy: 0.882\n",
      "Epoch 25 of 30 took 6.042s\n",
      "\t  training loss: 0.912798\n",
      "\tvalidation loss: 0.966483\n",
      "\tvalidation accuracy: 0.885\n",
      "Epoch 26 of 30 took 5.900s\n",
      "\t  training loss: 0.912131\n",
      "\tvalidation loss: 0.970048\n",
      "\tvalidation accuracy: 0.882\n",
      "Epoch 27 of 30 took 5.939s\n",
      "\t  training loss: 0.911454\n",
      "\tvalidation loss: 0.962966\n",
      "\tvalidation accuracy: 0.884\n",
      "Epoch 28 of 30 took 5.984s\n",
      "\t  training loss: 0.908937\n",
      "\tvalidation loss: 0.962050\n",
      "\tvalidation accuracy: 0.886\n",
      "Epoch 29 of 30 took 6.179s\n",
      "\t  training loss: 0.907628\n",
      "\tvalidation loss: 0.966596\n",
      "\tvalidation accuracy: 0.885\n",
      "Epoch 30 of 30 took 6.064s\n",
      "\t  training loss: 0.904729\n",
      "\tvalidation loss: 0.962403\n",
      "\tvalidation accuracy: 0.889\n"
     ]
    }
   ],
   "source": [
    "model = OverfittingNeuralNetwork().to(device)\n",
    "opt = torch.optim.Adam(model.parameters(), lr=1e-3)\n",
    "loss_func = nn.CrossEntropyLoss() # YOUR CODE HERE\n",
    "\n",
    "n_epochs = 30\n",
    "train_loss, val_loss, val_accuracy = train_model(model, train_loader,\n",
    "                                                 test_loader, loss_func,\n",
    "                                                 opt, n_epochs)"
   ]
  },
  {
   "cell_type": "code",
   "execution_count": 132,
   "metadata": {
    "colab": {
     "base_uri": "https://localhost:8080/",
     "height": 336
    },
    "executionInfo": {
     "elapsed": 2814,
     "status": "ok",
     "timestamp": 1607784882920,
     "user": {
      "displayName": "Артур Мулихов",
      "photoUrl": "",
      "userId": "12709459452152768078"
     },
     "user_tz": -180
    },
    "id": "DTsZBg9VVZaY",
    "outputId": "67cc76ab-cbd4-49a6-b421-327d3c32d099"
   },
   "outputs": [
    {
     "data": {
      "image/png": "[encoded data removed]",
      "text/plain": [
       "<Figure size 1080x360 with 2 Axes>"
      ]
     },
     "metadata": {
      "needs_background": "light",
      "tags": []
     },
     "output_type": "display_data"
    }
   ],
   "source": [
    "plot_train_process(train_loss, val_loss, val_accuracy)"
   ]
  },
  {
   "cell_type": "markdown",
   "metadata": {
    "id": "VYC6b7w-Bl6P"
   },
   "source": [
    "### Task 3: Fix it.\n",
    "Fix the overfitted network from the previous step (at least partially) by using regularization techniques (Dropout/Batchnorm/...) and demonstrate the results. "
   ]
  },
  {
   "cell_type": "code",
   "execution_count": 137,
   "metadata": {
    "executionInfo": {
     "elapsed": 2011,
     "status": "ok",
     "timestamp": 1607787681394,
     "user": {
      "displayName": "Артур Мулихов",
      "photoUrl": "",
      "userId": "12709459452152768078"
     },
     "user_tz": -180
    },
    "id": "r7u9iQ-sBl6Q"
   },
   "outputs": [],
   "source": [
    "class FixedNeuralNetwork(nn.Module):\n",
    "    def __init__(self, input_shape=28*28, num_classes=10, input_channels=1):\n",
    "        super(self.__class__, self).__init__()\n",
    "        self.model = nn.Sequential(\n",
    "            nn.Flatten(), # This layer converts image into a vector to use Linear layers afterwards\n",
    "            # Your network structure comes here\n",
    "            nn.Linear(input_shape, 14*14),\n",
    "            nn.LeakyReLU(),\n",
    "            nn.BatchNorm1d(14*14),\n",
    "            nn.Linear(14*14, 7*7),\n",
    "            nn.Dropout(),\n",
    "            nn.Softplus(),\n",
    "            nn.Linear(7*7, num_classes),\n",
    "            nn.Tanh()\n",
    "        )\n",
    "        \n",
    "    def forward(self, inp):       \n",
    "        out = self.model(inp)\n",
    "        return out\n",
    "\n",
    "    def __call__(self, inp):\n",
    "        return self.forward(inp)"
   ]
  },
  {
   "cell_type": "code",
   "execution_count": 138,
   "metadata": {
    "colab": {
     "base_uri": "https://localhost:8080/"
    },
    "executionInfo": {
     "elapsed": 1208,
     "status": "ok",
     "timestamp": 1607787683708,
     "user": {
      "displayName": "Артур Мулихов",
      "photoUrl": "",
      "userId": "12709459452152768078"
     },
     "user_tz": -180
    },
    "id": "YX9MG36XBl6Q",
    "outputId": "26612044-8a59-4564-abda-137952092e89"
   },
   "outputs": [
    {
     "name": "stdout",
     "output_type": "stream",
     "text": [
      "----------------------------------------------------------------\n",
      "        Layer (type)               Output Shape         Param #\n",
      "================================================================\n",
      "           Flatten-1                  [-1, 784]               0\n",
      "            Linear-2                  [-1, 196]         153,860\n",
      "         LeakyReLU-3                  [-1, 196]               0\n",
      "       BatchNorm1d-4                  [-1, 196]             392\n",
      "            Linear-5                   [-1, 49]           9,653\n",
      "           Dropout-6                   [-1, 49]               0\n",
      "          Softplus-7                   [-1, 49]               0\n",
      "            Linear-8                   [-1, 10]             500\n",
      "              Tanh-9                   [-1, 10]               0\n",
      "================================================================\n",
      "Total params: 164,405\n",
      "Trainable params: 164,405\n",
      "Non-trainable params: 0\n",
      "----------------------------------------------------------------\n",
      "Input size (MB): 0.00\n",
      "Forward/backward pass size (MB): 0.01\n",
      "Params size (MB): 0.63\n",
      "Estimated Total Size (MB): 0.64\n",
      "----------------------------------------------------------------\n"
     ]
    }
   ],
   "source": [
    "torchsummary.summary(FixedNeuralNetwork().to(device), (28*28,))"
   ]
  },
  {
   "cell_type": "code",
   "execution_count": 139,
   "metadata": {
    "colab": {
     "base_uri": "https://localhost:8080/"
    },
    "executionInfo": {
     "elapsed": 181900,
     "status": "ok",
     "timestamp": 1607787865881,
     "user": {
      "displayName": "Артур Мулихов",
      "photoUrl": "",
      "userId": "12709459452152768078"
     },
     "user_tz": -180
    },
    "id": "dpEeRtZtBl6Q",
    "outputId": "978f0b1d-90da-455c-edf9-8d814fd63c0d"
   },
   "outputs": [
    {
     "name": "stdout",
     "output_type": "stream",
     "text": [
      "Epoch 1 of 30 took 6.177s\n",
      "\t  training loss: 1.160049\n",
      "\tvalidation loss: 1.031758\n",
      "\tvalidation accuracy: 0.843\n",
      "Epoch 2 of 30 took 6.124s\n",
      "\t  training loss: 1.048887\n",
      "\tvalidation loss: 1.021852\n",
      "\tvalidation accuracy: 0.842\n",
      "Epoch 3 of 30 took 6.023s\n",
      "\t  training loss: 1.030172\n",
      "\tvalidation loss: 1.017705\n",
      "\tvalidation accuracy: 0.853\n",
      "Epoch 4 of 30 took 6.053s\n",
      "\t  training loss: 1.018025\n",
      "\tvalidation loss: 1.005366\n",
      "\tvalidation accuracy: 0.860\n",
      "Epoch 5 of 30 took 6.055s\n",
      "\t  training loss: 1.009655\n",
      "\tvalidation loss: 1.002306\n",
      "\tvalidation accuracy: 0.853\n",
      "Epoch 6 of 30 took 5.997s\n",
      "\t  training loss: 1.008482\n",
      "\tvalidation loss: 1.000434\n",
      "\tvalidation accuracy: 0.856\n",
      "Epoch 7 of 30 took 5.980s\n",
      "\t  training loss: 1.002152\n",
      "\tvalidation loss: 1.014556\n",
      "\tvalidation accuracy: 0.847\n",
      "Epoch 8 of 30 took 5.953s\n",
      "\t  training loss: 0.998368\n",
      "\tvalidation loss: 0.995514\n",
      "\tvalidation accuracy: 0.862\n",
      "Epoch 9 of 30 took 5.939s\n",
      "\t  training loss: 0.994007\n",
      "\tvalidation loss: 0.996437\n",
      "\tvalidation accuracy: 0.859\n",
      "Epoch 10 of 30 took 6.000s\n",
      "\t  training loss: 0.991042\n",
      "\tvalidation loss: 0.994489\n",
      "\tvalidation accuracy: 0.862\n",
      "Epoch 11 of 30 took 6.016s\n",
      "\t  training loss: 0.988934\n",
      "\tvalidation loss: 0.993942\n",
      "\tvalidation accuracy: 0.863\n",
      "Epoch 12 of 30 took 5.973s\n",
      "\t  training loss: 0.984072\n",
      "\tvalidation loss: 0.990036\n",
      "\tvalidation accuracy: 0.864\n",
      "Epoch 13 of 30 took 5.970s\n",
      "\t  training loss: 0.982005\n",
      "\tvalidation loss: 0.987164\n",
      "\tvalidation accuracy: 0.870\n",
      "Epoch 14 of 30 took 5.941s\n",
      "\t  training loss: 0.979673\n",
      "\tvalidation loss: 0.994294\n",
      "\tvalidation accuracy: 0.863\n",
      "Epoch 15 of 30 took 6.093s\n",
      "\t  training loss: 0.974854\n",
      "\tvalidation loss: 0.985367\n",
      "\tvalidation accuracy: 0.865\n",
      "Epoch 16 of 30 took 6.185s\n",
      "\t  training loss: 0.974779\n",
      "\tvalidation loss: 0.990741\n",
      "\tvalidation accuracy: 0.869\n",
      "Epoch 17 of 30 took 5.989s\n",
      "\t  training loss: 0.977891\n",
      "\tvalidation loss: 0.989825\n",
      "\tvalidation accuracy: 0.869\n",
      "Epoch 18 of 30 took 5.930s\n",
      "\t  training loss: 0.975423\n",
      "\tvalidation loss: 0.993678\n",
      "\tvalidation accuracy: 0.866\n",
      "Epoch 19 of 30 took 5.862s\n",
      "\t  training loss: 0.970701\n",
      "\tvalidation loss: 0.984410\n",
      "\tvalidation accuracy: 0.871\n",
      "Epoch 20 of 30 took 5.926s\n",
      "\t  training loss: 0.969495\n",
      "\tvalidation loss: 0.980467\n",
      "\tvalidation accuracy: 0.870\n",
      "Epoch 21 of 30 took 5.900s\n",
      "\t  training loss: 0.967516\n",
      "\tvalidation loss: 0.990109\n",
      "\tvalidation accuracy: 0.858\n",
      "Epoch 22 of 30 took 5.909s\n",
      "\t  training loss: 0.963917\n",
      "\tvalidation loss: 0.988574\n",
      "\tvalidation accuracy: 0.865\n",
      "Epoch 23 of 30 took 5.923s\n",
      "\t  training loss: 0.966608\n",
      "\tvalidation loss: 0.990367\n",
      "\tvalidation accuracy: 0.863\n",
      "Epoch 24 of 30 took 5.916s\n",
      "\t  training loss: 0.968054\n",
      "\tvalidation loss: 0.986977\n",
      "\tvalidation accuracy: 0.862\n",
      "Epoch 25 of 30 took 5.892s\n",
      "\t  training loss: 0.964922\n",
      "\tvalidation loss: 0.983552\n",
      "\tvalidation accuracy: 0.867\n",
      "Epoch 26 of 30 took 5.986s\n",
      "\t  training loss: 0.961478\n",
      "\tvalidation loss: 0.983394\n",
      "\tvalidation accuracy: 0.865\n",
      "Epoch 27 of 30 took 5.880s\n",
      "\t  training loss: 0.962118\n",
      "\tvalidation loss: 0.981741\n",
      "\tvalidation accuracy: 0.863\n",
      "Epoch 28 of 30 took 5.957s\n",
      "\t  training loss: 0.962831\n",
      "\tvalidation loss: 0.986946\n",
      "\tvalidation accuracy: 0.865\n",
      "Epoch 29 of 30 took 5.957s\n",
      "\t  training loss: 0.962346\n",
      "\tvalidation loss: 0.982403\n",
      "\tvalidation accuracy: 0.864\n",
      "Epoch 30 of 30 took 5.880s\n",
      "\t  training loss: 0.958265\n",
      "\tvalidation loss: 0.979804\n",
      "\tvalidation accuracy: 0.865\n"
     ]
    }
   ],
   "source": [
    "model = FixedNeuralNetwork().to(device)\n",
    "opt = torch.optim.Adam(model.parameters(), lr=1e-3)\n",
    "loss_func = nn.CrossEntropyLoss() # YOUR CODE HERE\n",
    "\n",
    "n_epochs = 30\n",
    "train_loss, val_loss, val_accuracy = train_model(model, train_loader,\n",
    "                                                 test_loader, loss_func,\n",
    "                                                 opt, n_epochs)"
   ]
  },
  {
   "cell_type": "code",
   "execution_count": 140,
   "metadata": {
    "colab": {
     "base_uri": "https://localhost:8080/",
     "height": 336
    },
    "executionInfo": {
     "elapsed": 142648,
     "status": "ok",
     "timestamp": 1607787865885,
     "user": {
      "displayName": "Артур Мулихов",
      "photoUrl": "",
      "userId": "12709459452152768078"
     },
     "user_tz": -180
    },
    "id": "BGm5MPqtnaf4",
    "outputId": "1010fb69-11b2-47a6-8605-6dee17febb78"
   },
   "outputs": [
    {
     "data": {
      "image/png": "[encoded data removed]",
      "text/plain": [
       "<Figure size 1080x360 with 2 Axes>"
      ]
     },
     "metadata": {
      "needs_background": "light",
      "tags": []
     },
     "output_type": "display_data"
    }
   ],
   "source": [
    "plot_train_process(train_loss, val_loss, val_accuracy)"
   ]
  },
  {
   "cell_type": "markdown",
   "metadata": {
    "id": "dMui_uLJ7G0d"
   },
   "source": [
    "### Conclusions:\n",
    "_Write down small report with your conclusions and your ideas._"
   ]
  },
  {
   "cell_type": "markdown",
   "metadata": {
    "id": "KxJcHC4dPLb8"
   },
   "source": [
    "- Переобучиться получилось достаточно легко, если не добавлять dropout/batchnorm слои. Видим на train/validation plot'e для переобученной модели с какого-то момента validation loss перестает падать, в то время как loss на train'e продолжает уменьшаться. Это сигнал о том, что модель начала запоминать train выборку\n",
    "\n",
    "- Добавление batchnorm'a после первой функции активации и dropout'a после предпоследнего линейного слоя улучшило ситуацию с переобучением, на train/val loss plot'e видно, что обе кривые убывают. Также добавление dropouta'a ожидаемо уменьшило скор на тесте, тк сложность моедли падает с добавлением dropout'a\n",
    "\n",
    "- При сравнении tran/val loss'a моделей, можно заметить что добавление batchnorm'a ожидаемо улучшает сходимость."
   ]
  }
 ],
 "metadata": {
  "accelerator": "GPU",
  "colab": {
   "collapsed_sections": [],
   "name": "Lab2_DL_part2_overfitting.ipynb",
   "provenance": []
  },
  "kernelspec": {
   "display_name": "Python 3",
   "language": "python",
   "name": "python3"
  },
  "language_info": {
   "codemirror_mode": {
    "name": "ipython",
    "version": 3
   },
   "file_extension": ".py",
   "mimetype": "text/x-python",
   "name": "python",
   "nbconvert_exporter": "python",
   "pygments_lexer": "ipython3",
   "version": "3.7.6"
  }
 },
 "nbformat": 4,
 "nbformat_minor": 1
}
